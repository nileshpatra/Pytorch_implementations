{
 "cells": [
  {
   "cell_type": "code",
   "execution_count": 1,
   "metadata": {},
   "outputs": [],
   "source": [
    "import torch\n",
    "import torch.nn as nn\n",
    "import torch.nn.functional as F\n",
    "import torchvision\n",
    "from torch import optim"
   ]
  },
  {
   "cell_type": "code",
   "execution_count": 2,
   "metadata": {},
   "outputs": [],
   "source": [
    "x = torch.Tensor([[0,0],[0,1],[1,0],[1,1]])\n",
    "y = torch.Tensor([[0,1,1,0]])"
   ]
  },
  {
   "cell_type": "code",
   "execution_count": 3,
   "metadata": {},
   "outputs": [],
   "source": [
    "n_input = 2\n",
    "n_hidden = 2\n",
    "n_output = 1\n",
    "\n",
    "class network(nn.Module):\n",
    "    def __init__(self):\n",
    "        super().__init__()\n",
    "        self.hidden = nn.Linear(n_input , n_hidden)\n",
    "        self.out = nn.Linear(n_hidden , n_output)\n",
    "    \n",
    "    def forward(self,x):\n",
    "        x = torch.sigmoid(self.hidden(x))\n",
    "        x = torch.sigmoid(self.out(x))\n",
    "        return x"
   ]
  },
  {
   "cell_type": "code",
   "execution_count": 4,
   "metadata": {},
   "outputs": [],
   "source": [
    "def sigmoid(z):\n",
    "    return 1/(1+torch.exp(-z))"
   ]
  },
  {
   "cell_type": "code",
   "execution_count": 5,
   "metadata": {},
   "outputs": [],
   "source": [
    "model = network()"
   ]
  },
  {
   "cell_type": "code",
   "execution_count": 6,
   "metadata": {},
   "outputs": [
    {
     "data": {
      "text/plain": [
       "network(\n",
       "  (hidden): Linear(in_features=2, out_features=2, bias=True)\n",
       "  (out): Linear(in_features=2, out_features=1, bias=True)\n",
       ")"
      ]
     },
     "execution_count": 6,
     "metadata": {},
     "output_type": "execute_result"
    }
   ],
   "source": [
    "model"
   ]
  },
  {
   "cell_type": "code",
   "execution_count": 7,
   "metadata": {},
   "outputs": [
    {
     "data": {
      "text/plain": [
       "tensor([[0.5850],\n",
       "        [0.5905],\n",
       "        [0.6127],\n",
       "        [0.6166]], grad_fn=<SigmoidBackward>)"
      ]
     },
     "execution_count": 7,
     "metadata": {},
     "output_type": "execute_result"
    }
   ],
   "source": [
    "model(x)"
   ]
  },
  {
   "cell_type": "code",
   "execution_count": 8,
   "metadata": {},
   "outputs": [],
   "source": [
    "criterion = nn.BCELoss()\n",
    "optimizer = optim.Adam(model.parameters() , lr = 0.1)"
   ]
  },
  {
   "cell_type": "code",
   "execution_count": 9,
   "metadata": {
    "scrolled": true
   },
   "outputs": [
    {
     "name": "stdout",
     "output_type": "stream",
     "text": [
      "0.7137036323547363\n",
      "0.6971072554588318\n",
      "0.6933162212371826\n",
      "0.6962496638298035\n",
      "0.6993333101272583\n",
      "0.6997619867324829\n",
      "0.6980748772621155\n",
      "0.6956965923309326\n",
      "0.6938026547431946\n",
      "0.6930046081542969\n",
      "0.6932940483093262\n",
      "0.6941583156585693\n",
      "0.6949064135551453\n",
      "0.6950643062591553\n",
      "0.694566547870636\n",
      "0.6936674118041992\n",
      "0.6927228569984436\n",
      "0.6919969916343689\n",
      "0.6915608644485474\n",
      "0.6912938356399536\n",
      "0.6909655332565308\n",
      "0.6903445720672607\n",
      "0.6892790794372559\n",
      "0.6877183318138123\n",
      "0.6856851577758789\n",
      "0.683224618434906\n",
      "0.6803544163703918\n",
      "0.6770332455635071\n",
      "0.673160195350647\n",
      "0.6686069369316101\n",
      "0.6632703542709351\n",
      "0.6571164131164551\n",
      "0.6501930952072144\n",
      "0.6426055431365967\n",
      "0.6344757080078125\n",
      "0.6259071826934814\n",
      "0.616974949836731\n",
      "0.6077386736869812\n",
      "0.598264753818512\n",
      "0.5886401534080505\n",
      "0.5789710283279419\n",
      "0.5693700313568115\n",
      "0.5599396228790283\n",
      "0.5507575869560242\n",
      "0.5418640375137329\n",
      "0.5332529544830322\n",
      "0.5248686075210571\n",
      "0.5166094899177551\n",
      "0.5083397030830383\n",
      "0.49990832805633545\n",
      "0.49117469787597656\n",
      "0.4820340871810913\n",
      "0.47243088483810425\n",
      "0.462345153093338\n",
      "0.45175251364707947\n",
      "0.4405924081802368\n",
      "0.4287903904914856\n",
      "0.41630586981773376\n",
      "0.4031452536582947\n",
      "0.3893479108810425\n",
      "0.3749791979789734\n",
      "0.36013445258140564\n",
      "0.34493669867515564\n",
      "0.32951581478118896\n",
      "0.3139892518520355\n",
      "0.29846352338790894\n",
      "0.28303951025009155\n",
      "0.2678076922893524\n",
      "0.25285011529922485\n",
      "0.2382553070783615\n",
      "0.22412359714508057\n",
      "0.21055081486701965\n",
      "0.19760775566101074\n",
      "0.1853366494178772\n",
      "0.17375779151916504\n",
      "0.16287574172019958\n",
      "0.15268176794052124\n",
      "0.14315900206565857\n",
      "0.1342884600162506\n",
      "0.12605109810829163\n",
      "0.11842513829469681\n",
      "0.11138252168893814\n",
      "0.10489030182361603\n",
      "0.09891222417354584\n",
      "0.0934114009141922\n",
      "0.08835095167160034\n",
      "0.08369505405426025\n",
      "0.07940906286239624\n",
      "0.07546110451221466\n",
      "0.07182158529758453\n",
      "0.06846380978822708\n",
      "0.06536345928907394\n",
      "0.062498077750205994\n",
      "0.059847161173820496\n",
      "0.0573916956782341\n",
      "0.055114343762397766\n",
      "0.05299917235970497\n",
      "0.05103180557489395\n",
      "0.04919927567243576\n",
      "0.04748968034982681\n"
     ]
    },
    {
     "name": "stderr",
     "output_type": "stream",
     "text": [
      "/home/nilesh/anaconda3/lib/python3.7/site-packages/torch/nn/functional.py:2016: UserWarning: Using a target size (torch.Size([1, 4])) that is different to the input size (torch.Size([4, 1])) is deprecated. Please ensure they have the same size.\n",
      "  \"Please ensure they have the same size.\".format(target.size(), input.size()))\n"
     ]
    }
   ],
   "source": [
    "for epoch in range(100):\n",
    "    optimizer.zero_grad()\n",
    "    output = model(x)\n",
    "    loss = criterion(output , y)\n",
    "    loss.backward()\n",
    "    optimizer.step()\n",
    "    print(loss.item())"
   ]
  },
  {
   "cell_type": "code",
   "execution_count": 10,
   "metadata": {},
   "outputs": [
    {
     "data": {
      "text/plain": [
       "tensor([[0.0320],\n",
       "        [0.9604],\n",
       "        [0.9608],\n",
       "        [0.0683]], grad_fn=<SigmoidBackward>)"
      ]
     },
     "execution_count": 10,
     "metadata": {},
     "output_type": "execute_result"
    }
   ],
   "source": [
    "ypred = model(x)\n",
    "ypred"
   ]
  },
  {
   "cell_type": "code",
   "execution_count": 11,
   "metadata": {},
   "outputs": [
    {
     "data": {
      "text/plain": [
       "array([[0],\n",
       "       [1],\n",
       "       [1],\n",
       "       [0]], dtype=uint8)"
      ]
     },
     "execution_count": 11,
     "metadata": {},
     "output_type": "execute_result"
    }
   ],
   "source": [
    "label_units = ypred.detach().numpy()\n",
    "predictions = ypred > 0.5\n",
    "predictions.numpy()"
   ]
  }
 ],
 "metadata": {
  "kernelspec": {
   "display_name": "Python 3",
   "language": "python",
   "name": "python3"
  },
  "language_info": {
   "codemirror_mode": {
    "name": "ipython",
    "version": 3
   },
   "file_extension": ".py",
   "mimetype": "text/x-python",
   "name": "python",
   "nbconvert_exporter": "python",
   "pygments_lexer": "ipython3",
   "version": "3.7.1"
  }
 },
 "nbformat": 4,
 "nbformat_minor": 2
}
