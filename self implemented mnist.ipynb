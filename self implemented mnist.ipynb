{
 "cells": [
  {
   "cell_type": "code",
   "execution_count": 1,
   "metadata": {},
   "outputs": [],
   "source": [
    "import torch\n",
    "import torch.nn as nn\n",
    "from torch import optim\n",
    "import numpy as np\n",
    "import matplotlib.pyplot as plt\n",
    "%matplotlib inline"
   ]
  },
  {
   "cell_type": "code",
   "execution_count": 2,
   "metadata": {},
   "outputs": [],
   "source": [
    "import torch.utils.data\n",
    "import torchvision"
   ]
  },
  {
   "cell_type": "code",
   "execution_count": 3,
   "metadata": {},
   "outputs": [],
   "source": [
    "train_loader = torch.utils.data.DataLoader(\n",
    "  torchvision.datasets.MNIST('MNIST_data/', train=True, download=True,\n",
    "                             transform=torchvision.transforms.Compose([\n",
    "                               torchvision.transforms.ToTensor(),\n",
    "                               torchvision.transforms.Normalize(\n",
    "                                 (0.5,0.5,0.5),(0.5,0.5,0.5))\n",
    "                             ])),\n",
    "   batch_size = 64,shuffle=True)\n",
    "\n",
    "test_loader = torch.utils.data.DataLoader(\n",
    "  torchvision.datasets.MNIST('MNIST_data/', train=False, download=True,\n",
    "                             transform=torchvision.transforms.Compose([\n",
    "                               torchvision.transforms.ToTensor(),\n",
    "                               torchvision.transforms.Normalize(\n",
    "                                 (0.5,0.5,0.5),(0.5,0.5,0.5))\n",
    "                             ])),\n",
    "   batch_size = 1000 , shuffle=True)"
   ]
  },
  {
   "cell_type": "code",
   "execution_count": 4,
   "metadata": {},
   "outputs": [],
   "source": [
    "_ , (images , labels) = next(enumerate(train_loader))"
   ]
  },
  {
   "cell_type": "code",
   "execution_count": 5,
   "metadata": {},
   "outputs": [
    {
     "data": {
      "text/plain": [
       "(torch.Size([64, 1, 28, 28]), torch.Size([64]))"
      ]
     },
     "execution_count": 5,
     "metadata": {},
     "output_type": "execute_result"
    }
   ],
   "source": [
    "images.shape , labels.shape"
   ]
  },
  {
   "cell_type": "code",
   "execution_count": 6,
   "metadata": {},
   "outputs": [
    {
     "data": {
      "text/plain": [
       "<matplotlib.image.AxesImage at 0x7f414a012668>"
      ]
     },
     "execution_count": 6,
     "metadata": {},
     "output_type": "execute_result"
    },
    {
     "data": {
      "image/png": "[encoded data removed]",
      "text/plain": [
       "<Figure size 432x288 with 1 Axes>"
      ]
     },
     "metadata": {
      "needs_background": "light"
     },
     "output_type": "display_data"
    }
   ],
   "source": [
    "plt.imshow(images[0].numpy().reshape(28,28))"
   ]
  },
  {
   "cell_type": "code",
   "execution_count": 7,
   "metadata": {},
   "outputs": [],
   "source": [
    "model = nn.Sequential(nn.Linear(784 , 256) , nn.ReLU() ,\n",
    "                     nn.Linear(256 , 64) , nn.ReLU() , \n",
    "                     nn.Linear(64 , 10) , nn.LogSoftmax(dim = 1))\n",
    "criterion = nn.NLLLoss()\n",
    "optimizer = optim.Adam(model.parameters() , lr = 0.01)"
   ]
  },
  {
   "cell_type": "code",
   "execution_count": 26,
   "metadata": {
    "scrolled": true
   },
   "outputs": [
    {
     "name": "stdout",
     "output_type": "stream",
     "text": [
      "epoch  0 : 0.7121358029623784\n",
      "epoch  1 : 0.6970576602639929\n",
      "epoch  2 : 0.6852271333177969\n",
      "epoch  3 : 0.6748727423740603\n",
      "epoch  4 : 0.6687556474384214\n",
      "epoch  5 : 0.6641915029109414\n",
      "epoch  6 : 0.6588574341937169\n",
      "epoch  7 : 0.659961981528095\n",
      "epoch  8 : 0.6571054936789754\n",
      "epoch  9 : 0.6487284353547005\n"
     ]
    }
   ],
   "source": [
    "for epoch in range(10):\n",
    "    tot_loss = 0\n",
    "    for _ , (data , target) in enumerate(train_loader):\n",
    "        optimizer.zero_grad()\n",
    "        new_data = data.view(data.shape[0] , -1)\n",
    "        output = model(new_data)\n",
    "        loss = criterion(output , target)\n",
    "        loss.backward()\n",
    "        optimizer.step()\n",
    "        tot_loss += loss.item()\n",
    "    print('epoch ',epoch,':',tot_loss/len(train_loader))"
   ]
  },
  {
   "cell_type": "code",
   "execution_count": 9,
   "metadata": {},
   "outputs": [],
   "source": [
    "_ , (test_images , test_labels) = next(enumerate(test_loader))"
   ]
  },
  {
   "cell_type": "code",
   "execution_count": 27,
   "metadata": {},
   "outputs": [],
   "source": [
    "predictions = model(test_images.view(test_images.shape[0],-1))"
   ]
  },
  {
   "cell_type": "code",
   "execution_count": 28,
   "metadata": {},
   "outputs": [
    {
     "data": {
      "text/plain": [
       "torch.Size([1000, 10])"
      ]
     },
     "execution_count": 28,
     "metadata": {},
     "output_type": "execute_result"
    }
   ],
   "source": [
    "predictions.shape"
   ]
  },
  {
   "cell_type": "code",
   "execution_count": 29,
   "metadata": {
    "scrolled": true
   },
   "outputs": [
    {
     "data": {
      "text/plain": [
       "array([9, 3, 9, 8, 9, 8, 7, 1, 7, 7, 4, 2, 0, 4, 4, 0, 9, 5, 8, 5, 3, 4,\n",
       "       2, 5, 6, 1, 5, 1, 2, 1, 1, 5, 4, 4, 6, 7, 0, 4, 3, 3, 1, 0, 5, 6,\n",
       "       8, 3, 9, 8, 2, 1, 4, 3, 4, 5, 1, 1, 0, 1, 8, 3, 4, 9, 4, 1, 3, 0,\n",
       "       2, 1, 8, 6, 9, 9, 5, 1, 5, 9, 1, 0, 5, 2, 7, 9, 9, 1, 5, 0, 3, 0,\n",
       "       7, 5, 2, 4, 1, 9, 5, 7, 7, 2, 9, 6, 6, 4, 0, 5, 5, 4, 0, 3, 4, 3,\n",
       "       1, 5, 0, 4, 6, 4, 5, 3, 4, 1, 4, 2, 7, 6, 7, 5, 0, 1, 2, 9, 8, 0,\n",
       "       0, 7, 4, 3, 6, 2, 1, 9, 9, 2, 1, 8, 8, 7, 4, 6, 9, 9, 3, 6, 0, 4,\n",
       "       2, 7, 5, 4, 1, 4, 2, 0, 2, 4, 7, 1, 6, 2, 1, 2, 5, 1, 7, 1, 3, 6,\n",
       "       1, 7, 0, 4, 1, 3, 8, 5, 9, 3, 4, 8, 0, 1, 6, 8, 1, 2, 7, 8, 4, 4,\n",
       "       0, 1, 0, 4, 7, 4, 6, 2, 6, 8, 4, 2, 8, 4, 7, 8, 3, 4, 9, 3, 9, 9,\n",
       "       1, 4, 1, 8, 9, 7, 1, 9, 8, 6, 5, 8, 0, 5, 2, 5, 4, 0, 7, 1, 4, 5,\n",
       "       2, 7, 2, 4, 2, 2, 2, 7, 2, 7, 4, 9, 4, 9, 2, 8, 2, 8, 8, 3, 8, 5,\n",
       "       0, 2, 5, 6, 7, 4, 2, 1, 7, 7, 2, 8, 1, 2, 7, 9, 3, 7, 0, 4, 1, 7,\n",
       "       2, 4, 9, 1, 4, 5, 9, 1, 6, 5, 6, 8, 6, 1, 9, 3, 8, 4, 2, 4, 9, 1,\n",
       "       0, 9, 5, 5, 0, 2, 1, 1, 1, 0, 4, 8, 8, 2, 4, 6, 8, 9, 1, 0, 8, 7,\n",
       "       9, 2, 0, 9, 8, 6, 8, 6, 1, 2, 0, 6, 4, 5, 9, 1, 4, 5, 7, 4, 1, 4,\n",
       "       1, 1, 3, 8, 1, 3, 7, 2, 1, 4, 7, 9, 9, 8, 2, 5, 7, 4, 6, 8, 4, 0,\n",
       "       7, 8, 7, 9, 8, 9, 9, 7, 0, 2, 8, 8, 5, 7, 4, 3, 4, 3, 4, 3, 9, 6,\n",
       "       1, 9, 2, 4, 4, 3, 9, 1, 8, 8, 9, 4, 2, 6, 4, 7, 6, 6, 2, 2, 5, 0,\n",
       "       3, 7, 5, 5, 2, 4, 1, 4, 2, 4, 4, 3, 9, 3, 9, 3, 3, 4, 1, 9, 4, 6,\n",
       "       4, 0, 8, 4, 8, 5, 6, 9, 7, 7, 9, 6, 5, 8, 5, 0, 4, 4, 8, 1, 8, 1,\n",
       "       0, 7, 6, 4, 1, 8, 7, 7, 5, 2, 0, 1, 3, 4, 0, 4, 1, 4, 9, 2, 4, 1,\n",
       "       0, 4, 1, 4, 9, 9, 8, 6, 7, 1, 8, 5, 1, 7, 4, 4, 4, 3, 5, 6, 6, 5,\n",
       "       0, 8, 6, 7, 6, 5, 4, 7, 2, 9, 1, 8, 7, 6, 4, 4, 2, 6, 0, 2, 0, 4,\n",
       "       6, 9, 3, 3, 9, 6, 4, 1, 1, 3, 0, 7, 1, 6, 6, 9, 5, 6, 8, 1, 1, 3,\n",
       "       5, 2, 3, 5, 0, 2, 2, 3, 4, 2, 0, 4, 6, 7, 8, 6, 5, 9, 9, 4, 6, 2,\n",
       "       6, 6, 8, 9, 5, 7, 8, 7, 4, 9, 1, 5, 9, 3, 3, 4, 9, 8, 4, 4, 2, 4,\n",
       "       2, 8, 6, 1, 2, 8, 4, 0, 1, 1, 2, 6, 5, 7, 1, 1, 8, 9, 1, 4, 4, 0,\n",
       "       7, 4, 6, 7, 7, 8, 3, 6, 3, 7, 4, 4, 4, 1, 3, 2, 0, 8, 0, 8, 2, 9,\n",
       "       5, 6, 5, 8, 9, 8, 6, 6, 5, 5, 5, 9, 4, 5, 1, 7, 0, 6, 7, 3, 2, 6,\n",
       "       8, 9, 6, 1, 9, 3, 7, 0, 3, 4, 7, 7, 1, 2, 4, 5, 8, 1, 4, 4, 2, 2,\n",
       "       2, 5, 8, 7, 3, 6, 6, 2, 1, 7, 5, 4, 2, 4, 7, 3, 7, 8, 3, 4, 9, 7,\n",
       "       9, 2, 3, 6, 4, 7, 1, 3, 2, 1, 9, 1, 9, 5, 0, 5, 2, 7, 2, 0, 0, 3,\n",
       "       1, 6, 4, 8, 3, 1, 9, 7, 0, 7, 2, 9, 4, 1, 3, 7, 3, 0, 9, 8, 4, 5,\n",
       "       9, 1, 6, 1, 2, 1, 2, 4, 5, 3, 4, 2, 3, 9, 9, 1, 4, 1, 5, 1, 1, 4,\n",
       "       2, 1, 3, 0, 4, 5, 7, 7, 9, 6, 3, 6, 4, 2, 5, 3, 8, 7, 8, 9, 4, 9,\n",
       "       8, 0, 9, 9, 9, 3, 3, 1, 4, 5, 4, 8, 5, 4, 1, 6, 2, 8, 6, 4, 8, 8,\n",
       "       2, 6, 5, 9, 6, 3, 9, 9, 7, 2, 0, 9, 8, 3, 4, 8, 2, 7, 5, 4, 0, 1,\n",
       "       0, 8, 7, 0, 6, 6, 8, 1, 6, 0, 6, 6, 7, 8, 0, 2, 2, 4, 9, 1, 8, 4,\n",
       "       4, 4, 4, 7, 3, 1, 5, 0, 9, 2, 6, 3, 2, 1, 4, 5, 6, 8, 5, 4, 5, 6,\n",
       "       0, 8, 1, 2, 3, 4, 0, 4, 6, 2, 8, 4, 8, 2, 7, 8, 8, 0, 3, 3, 9, 9,\n",
       "       9, 5, 8, 8, 9, 4, 2, 8, 7, 2, 0, 0, 3, 5, 2, 5, 4, 7, 8, 0, 5, 2,\n",
       "       1, 9, 1, 6, 9, 7, 1, 1, 1, 2, 5, 2, 1, 8, 7, 2, 5, 0, 4, 0, 4, 1,\n",
       "       3, 0, 0, 4, 4, 2, 0, 4, 0, 7, 5, 4, 7, 6, 5, 7, 9, 4, 7, 3, 4, 8,\n",
       "       5, 3, 1, 6, 9, 5, 5, 9, 5, 3, 1, 0, 0, 6, 1, 6, 4, 8, 3, 0, 2, 5,\n",
       "       5, 5, 9, 6, 6, 4, 1, 0, 4, 8], dtype=object)"
      ]
     },
     "execution_count": 29,
     "metadata": {},
     "output_type": "execute_result"
    }
   ],
   "source": [
    "pred_array = predictions.detach().numpy()\n",
    "ypred = np.array([None for _ in range(1000)])\n",
    "for i in range(1000):\n",
    "    maxm = -10000\n",
    "    for j in range(10):\n",
    "        if maxm < pred_array[i][j]:\n",
    "            maxm = pred_array[i][j]\n",
    "            ypred[i] = j \n",
    "ypred"
   ]
  },
  {
   "cell_type": "code",
   "execution_count": 30,
   "metadata": {},
   "outputs": [
    {
     "name": "stdout",
     "output_type": "stream",
     "text": [
      "accuracy :  0.781\n"
     ]
    }
   ],
   "source": [
    "print('accuracy : ' , (ypred == test_labels.numpy()).sum()/len(ypred))"
   ]
  }
 ],
 "metadata": {
  "kernelspec": {
   "display_name": "Python 3",
   "language": "python",
   "name": "python3"
  },
  "language_info": {
   "codemirror_mode": {
    "name": "ipython",
    "version": 3
   },
   "file_extension": ".py",
   "mimetype": "text/x-python",
   "name": "python",
   "nbconvert_exporter": "python",
   "pygments_lexer": "ipython3",
   "version": "3.7.1"
  }
 },
 "nbformat": 4,
 "nbformat_minor": 2
}
